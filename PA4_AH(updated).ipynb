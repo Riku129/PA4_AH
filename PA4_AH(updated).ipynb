{
 "cells": [
  {
   "cell_type": "markdown",
   "id": "0793a1a0",
   "metadata": {},
   "source": [
    "# Adham Howaidy\n",
    "\n",
    "### Programming Assignment 4\n",
    "\n",
    "### CS150-01\n",
    "\n",
    "### Computer Programming for the Liberal Arts\n",
    "\n",
    "### Fall 2021\n",
    "\n",
    "### Pyhton V3"
   ]
  },
  {
   "cell_type": "code",
   "execution_count": 1,
   "id": "9fd8f49f",
   "metadata": {},
   "outputs": [
    {
     "name": "stdout",
     "output_type": "stream",
     "text": [
      "[35, 23, 2, 68, 34, 68, 56, 15]\n"
     ]
    }
   ],
   "source": [
    "lists=[35,23,2,68,34,68,56,15]\n",
    "print(lists)"
   ]
  },
  {
   "cell_type": "code",
   "execution_count": 2,
   "id": "96e8e991",
   "metadata": {},
   "outputs": [
    {
     "name": "stdout",
     "output_type": "stream",
     "text": [
      "[35, 23, 2, 68, 34, 68, 56, 15, 2]\n"
     ]
    }
   ],
   "source": [
    "lists.append(2)\n",
    "print(lists)"
   ]
  },
  {
   "cell_type": "markdown",
   "id": "c2cc6b44",
   "metadata": {},
   "source": [
    "When append() is used, it adds the number inside the bracket to the end of the list."
   ]
  },
  {
   "cell_type": "code",
   "execution_count": 3,
   "id": "f72985fe",
   "metadata": {},
   "outputs": [
    {
     "name": "stdout",
     "output_type": "stream",
     "text": [
      "[35, 23, 2, 68, 34, 68, 56, 15, 2, 25, 12, 29]\n"
     ]
    }
   ],
   "source": [
    "extendlist=25,12,29\n",
    "lists.extend(extendlist)\n",
    "print(lists)"
   ]
  },
  {
   "cell_type": "markdown",
   "id": "32ebb790",
   "metadata": {},
   "source": [
    "extend() adds another list to the end of a selected lsit."
   ]
  },
  {
   "cell_type": "code",
   "execution_count": 4,
   "id": "878a9493",
   "metadata": {},
   "outputs": [
    {
     "name": "stdout",
     "output_type": "stream",
     "text": [
      "[35, 23, 2, 68, 34, 68, 56, 15, 5, 2, 25, 12, 29]\n"
     ]
    }
   ],
   "source": [
    "lists.insert(8,5)\n",
    "print(lists)"
   ]
  },
  {
   "cell_type": "markdown",
   "id": "f0f256aa",
   "metadata": {},
   "source": [
    "The insert() command adds the 2nd number to the 1st numbers position. For example, the \"5\" above was added to the 8th position."
   ]
  },
  {
   "cell_type": "code",
   "execution_count": 5,
   "id": "e5268961",
   "metadata": {},
   "outputs": [
    {
     "name": "stdout",
     "output_type": "stream",
     "text": [
      "[35, 23, 2, 68, 34, 68, 56, 15, 2, 25, 12, 29]\n"
     ]
    }
   ],
   "source": [
    "lists.remove(5)\n",
    "print(lists)"
   ]
  },
  {
   "cell_type": "markdown",
   "id": "a4608fc1",
   "metadata": {},
   "source": [
    "The remove() command removes the selected value from the list."
   ]
  },
  {
   "cell_type": "code",
   "execution_count": 6,
   "id": "356cc8c8",
   "metadata": {},
   "outputs": [
    {
     "data": {
      "text/plain": [
       "2"
      ]
     },
     "execution_count": 6,
     "metadata": {},
     "output_type": "execute_result"
    }
   ],
   "source": [
    "lists.count(2)"
   ]
  },
  {
   "cell_type": "markdown",
   "id": "ff050947",
   "metadata": {},
   "source": [
    "The count() command tells the total number of the selected value."
   ]
  },
  {
   "cell_type": "code",
   "execution_count": 7,
   "id": "3b821f6a",
   "metadata": {},
   "outputs": [
    {
     "data": {
      "text/plain": [
       "3"
      ]
     },
     "execution_count": 7,
     "metadata": {},
     "output_type": "execute_result"
    }
   ],
   "source": [
    "lists.index(68)"
   ]
  },
  {
   "cell_type": "markdown",
   "id": "c4549fc5",
   "metadata": {},
   "source": [
    "index() tells the position of a certain value in a list."
   ]
  },
  {
   "cell_type": "code",
   "execution_count": 10,
   "id": "6d959527",
   "metadata": {},
   "outputs": [
    {
     "name": "stdout",
     "output_type": "stream",
     "text": [
      "[35, 23, 2, 68, 56, 15, 2, 25, 12, 29]\n"
     ]
    }
   ],
   "source": [
    "lists.pop(3)\n",
    "print(lists)"
   ]
  },
  {
   "cell_type": "markdown",
   "id": "54ab3a7a",
   "metadata": {},
   "source": [
    "pop() removes the value at the selected spot in a list"
   ]
  },
  {
   "cell_type": "code",
   "execution_count": 11,
   "id": "40e8a887",
   "metadata": {},
   "outputs": [
    {
     "name": "stdout",
     "output_type": "stream",
     "text": [
      "[2, 2, 12, 15, 23, 25, 29, 35, 56, 68]\n"
     ]
    }
   ],
   "source": [
    "lists.sort()\n",
    "print(lists)"
   ]
  },
  {
   "cell_type": "markdown",
   "id": "8b863440",
   "metadata": {},
   "source": [
    "sort() organizes the list, in the case above, from lowest to highest."
   ]
  },
  {
   "cell_type": "code",
   "execution_count": 12,
   "id": "dbd86702",
   "metadata": {},
   "outputs": [
    {
     "name": "stdout",
     "output_type": "stream",
     "text": [
      "[2, 2, 12, 15, 23, 25, 29, 35, 56, 68]\n"
     ]
    }
   ],
   "source": [
    "newlist=lists.copy()\n",
    "print(newlist)"
   ]
  },
  {
   "cell_type": "markdown",
   "id": "17ee54ad",
   "metadata": {},
   "source": [
    "copy() makes a shallow copy of a list, this basically means that if you modify the original list, then newlist is also modified."
   ]
  },
  {
   "cell_type": "code",
   "execution_count": 13,
   "id": "c9addcda",
   "metadata": {},
   "outputs": [
    {
     "name": "stdout",
     "output_type": "stream",
     "text": [
      "[]\n"
     ]
    }
   ],
   "source": [
    "lists.clear()\n",
    "print(lists)"
   ]
  },
  {
   "cell_type": "markdown",
   "id": "ab8b3de8",
   "metadata": {},
   "source": [
    "clear() clears the list of all values."
   ]
  },
  {
   "cell_type": "code",
   "execution_count": 14,
   "id": "af5c28a7",
   "metadata": {},
   "outputs": [
    {
     "name": "stdout",
     "output_type": "stream",
     "text": [
      "True\n"
     ]
    }
   ],
   "source": [
    "lists=[25,51,67,83,12,43]\n",
    "print(any(lists))"
   ]
  },
  {
   "cell_type": "markdown",
   "id": "8a0eb445",
   "metadata": {},
   "source": [
    "any() finds if anything in the list is a iterable item is in the selected value"
   ]
  },
  {
   "cell_type": "code",
   "execution_count": 15,
   "id": "02da5db5",
   "metadata": {},
   "outputs": [
    {
     "name": "stdout",
     "output_type": "stream",
     "text": [
      "25\n",
      "51\n",
      "67\n",
      "83\n",
      "43\n"
     ]
    }
   ],
   "source": [
    "def myFunc(x):\n",
    "    if x<18:\n",
    "        return False\n",
    "    else:\n",
    "        return True\n",
    "adults=filter(myFunc,lists)\n",
    "for x in adults:\n",
    "    print(x)"
   ]
  },
  {
   "cell_type": "markdown",
   "id": "e22dfdcb",
   "metadata": {},
   "source": [
    "filter() returns a value where a filter is used to determine if a value is true or not."
   ]
  },
  {
   "cell_type": "code",
   "execution_count": 16,
   "id": "ac8a7e87",
   "metadata": {},
   "outputs": [
    {
     "name": "stdout",
     "output_type": "stream",
     "text": [
      "['a', 'e', 'i', 'o', 'u']\n"
     ]
    }
   ],
   "source": [
    "vowels='aeiou'\n",
    "print(list(vowels))"
   ]
  },
  {
   "cell_type": "markdown",
   "id": "adae6f46",
   "metadata": {},
   "source": [
    "list() creates list out of already given values"
   ]
  },
  {
   "cell_type": "code",
   "execution_count": 17,
   "id": "88ec32f2",
   "metadata": {},
   "outputs": [
    {
     "data": {
      "text/plain": [
       "[9, 12, 13]"
      ]
     },
     "execution_count": 17,
     "metadata": {},
     "output_type": "execute_result"
    }
   ],
   "source": [
    "cow_ages=[1,2,5,7,8,9,12,13]\n",
    "def cow(x):\n",
    "        if x>8:\n",
    "            return x\n",
    "list(filter(cow,cow_ages))"
   ]
  },
  {
   "cell_type": "markdown",
   "id": "6e862c01",
   "metadata": {},
   "source": [
    "filter() filters out unwanted values from the list."
   ]
  },
  {
   "cell_type": "code",
   "execution_count": 18,
   "id": "983a2194",
   "metadata": {
    "scrolled": false
   },
   "outputs": [
    {
     "data": {
      "text/plain": [
       "[None, None, None, None, None, 9, 12, 13]"
      ]
     },
     "execution_count": 18,
     "metadata": {},
     "output_type": "execute_result"
    }
   ],
   "source": [
    "list(map(cow,cow_ages))"
   ]
  },
  {
   "cell_type": "markdown",
   "id": "04410a24",
   "metadata": {},
   "source": [
    "map() keeps the values in place but replaces them with None to represent that they did not pass the filter"
   ]
  },
  {
   "cell_type": "code",
   "execution_count": 20,
   "id": "db5524bb",
   "metadata": {
    "scrolled": true
   },
   "outputs": [
    {
     "data": {
      "text/plain": [
       "1"
      ]
     },
     "execution_count": 20,
     "metadata": {},
     "output_type": "execute_result"
    }
   ],
   "source": [
    "def cmp(a,b):\n",
    "        if a>b:\n",
    "            return 1\n",
    "        elif b>a:\n",
    "            return -1\n",
    "        else:\n",
    "            return 0\n",
    "cmp(25,12)"
   ]
  },
  {
   "cell_type": "markdown",
   "id": "faf9e272",
   "metadata": {},
   "source": [
    "The cmp() function compares two integers to see if a greater then statement it met, tied, or not met"
   ]
  },
  {
   "cell_type": "code",
   "execution_count": 22,
   "id": "ef130713",
   "metadata": {},
   "outputs": [
    {
     "data": {
      "text/plain": [
       "5"
      ]
     },
     "execution_count": 22,
     "metadata": {},
     "output_type": "execute_result"
    }
   ],
   "source": [
    "melons=[8,0,0,8,5]\n",
    "len(melons)"
   ]
  },
  {
   "cell_type": "markdown",
   "id": "6f185dba",
   "metadata": {},
   "source": [
    "len() returns length of tuple"
   ]
  },
  {
   "cell_type": "code",
   "execution_count": 23,
   "id": "27329e5f",
   "metadata": {},
   "outputs": [
    {
     "data": {
      "text/plain": [
       "8"
      ]
     },
     "execution_count": 23,
     "metadata": {},
     "output_type": "execute_result"
    }
   ],
   "source": [
    "max(melons)"
   ]
  },
  {
   "cell_type": "raw",
   "id": "80a940dc",
   "metadata": {},
   "source": [
    "The max() command returns the highest number in the tuple"
   ]
  },
  {
   "cell_type": "code",
   "execution_count": 24,
   "id": "06aea047",
   "metadata": {},
   "outputs": [
    {
     "data": {
      "text/plain": [
       "(25, 50, 75, 66, 11, 3, 34)"
      ]
     },
     "execution_count": 24,
     "metadata": {},
     "output_type": "execute_result"
    }
   ],
   "source": [
    "numbers=[25,50,75,66,11,3,34]\n",
    "tuple_numbers=tuple(numbers)\n",
    "tuple_numbers"
   ]
  },
  {
   "cell_type": "markdown",
   "id": "c0b948b7",
   "metadata": {},
   "source": [
    "tuple() turns a tuple into a list (parenthesis instead of brackets now)"
   ]
  }
 ],
 "metadata": {
  "kernelspec": {
   "display_name": "Python 3",
   "language": "python",
   "name": "python3"
  },
  "language_info": {
   "codemirror_mode": {
    "name": "ipython",
    "version": 3
   },
   "file_extension": ".py",
   "mimetype": "text/x-python",
   "name": "python",
   "nbconvert_exporter": "python",
   "pygments_lexer": "ipython3",
   "version": "3.8.8"
  }
 },
 "nbformat": 4,
 "nbformat_minor": 5
}
