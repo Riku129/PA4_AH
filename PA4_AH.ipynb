{
 "cells": [
  {
   "cell_type": "markdown",
   "id": "0793a1a0",
   "metadata": {},
   "source": [
    "# Adham Howaidy\n",
    "\n",
    "### Programming Assignment 4\n",
    "\n",
    "### CS150-01\n",
    "\n",
    "### Computer Programming for the Liberal Arts\n",
    "\n",
    "### Fall 2021\n",
    "\n",
    "### Pyhton V3"
   ]
  },
  {
   "cell_type": "code",
   "execution_count": 3,
   "id": "9fd8f49f",
   "metadata": {},
   "outputs": [
    {
     "name": "stdout",
     "output_type": "stream",
     "text": [
      "[35, 23, 2, 68, 34, 68, 56, 15]\n"
     ]
    }
   ],
   "source": [
    "lists=[35,23,2,68,34,68,56,15]\n",
    "print(lists)"
   ]
  },
  {
   "cell_type": "code",
   "execution_count": 4,
   "id": "96e8e991",
   "metadata": {},
   "outputs": [
    {
     "name": "stdout",
     "output_type": "stream",
     "text": [
      "[35, 23, 2, 68, 34, 68, 56, 15, 2]\n"
     ]
    }
   ],
   "source": [
    "lists.append(2)\n",
    "print(lists)"
   ]
  },
  {
   "cell_type": "code",
   "execution_count": 5,
   "id": "f72985fe",
   "metadata": {},
   "outputs": [
    {
     "name": "stdout",
     "output_type": "stream",
     "text": [
      "[35, 23, 2, 68, 34, 68, 56, 15, 2, 25, 12, 29]\n"
     ]
    }
   ],
   "source": [
    "extendlist=25,12,29\n",
    "lists.extend(extendlist)\n",
    "print(lists)"
   ]
  },
  {
   "cell_type": "code",
   "execution_count": 6,
   "id": "878a9493",
   "metadata": {},
   "outputs": [
    {
     "name": "stdout",
     "output_type": "stream",
     "text": [
      "[35, 23, 2, 68, 34, 68, 56, 15, 5, 2, 25, 12, 29]\n"
     ]
    }
   ],
   "source": [
    "lists.insert(8,5)\n",
    "print(lists)"
   ]
  },
  {
   "cell_type": "code",
   "execution_count": 7,
   "id": "e5268961",
   "metadata": {},
   "outputs": [
    {
     "name": "stdout",
     "output_type": "stream",
     "text": [
      "[35, 23, 2, 68, 34, 68, 56, 15, 2, 25, 12, 29]\n"
     ]
    }
   ],
   "source": [
    "lists.remove(5)\n",
    "print(lists)"
   ]
  },
  {
   "cell_type": "code",
   "execution_count": 8,
   "id": "356cc8c8",
   "metadata": {},
   "outputs": [
    {
     "data": {
      "text/plain": [
       "2"
      ]
     },
     "execution_count": 8,
     "metadata": {},
     "output_type": "execute_result"
    }
   ],
   "source": [
    "lists.count(2)"
   ]
  },
  {
   "cell_type": "code",
   "execution_count": 9,
   "id": "3b821f6a",
   "metadata": {},
   "outputs": [
    {
     "data": {
      "text/plain": [
       "3"
      ]
     },
     "execution_count": 9,
     "metadata": {},
     "output_type": "execute_result"
    }
   ],
   "source": [
    "lists.index(68)"
   ]
  },
  {
   "cell_type": "code",
   "execution_count": 10,
   "id": "6d959527",
   "metadata": {},
   "outputs": [
    {
     "name": "stdout",
     "output_type": "stream",
     "text": [
      "[35, 23, 2, 34, 68, 56, 15, 2, 25, 12, 29]\n"
     ]
    }
   ],
   "source": [
    "lists.pop(3)\n",
    "print(lists)"
   ]
  },
  {
   "cell_type": "code",
   "execution_count": 11,
   "id": "40e8a887",
   "metadata": {},
   "outputs": [
    {
     "name": "stdout",
     "output_type": "stream",
     "text": [
      "[2, 2, 12, 15, 23, 25, 29, 34, 35, 56, 68]\n"
     ]
    }
   ],
   "source": [
    "lists.sort()\n",
    "print(lists)"
   ]
  },
  {
   "cell_type": "code",
   "execution_count": 12,
   "id": "dbd86702",
   "metadata": {},
   "outputs": [
    {
     "name": "stdout",
     "output_type": "stream",
     "text": [
      "[2, 2, 12, 15, 23, 25, 29, 34, 35, 56, 68]\n"
     ]
    }
   ],
   "source": [
    "newlist=lists.copy()\n",
    "print(newlist)"
   ]
  },
  {
   "cell_type": "code",
   "execution_count": 13,
   "id": "c9addcda",
   "metadata": {},
   "outputs": [
    {
     "name": "stdout",
     "output_type": "stream",
     "text": [
      "[]\n"
     ]
    }
   ],
   "source": [
    "lists.clear()\n",
    "print(lists)"
   ]
  },
  {
   "cell_type": "code",
   "execution_count": 14,
   "id": "af5c28a7",
   "metadata": {},
   "outputs": [
    {
     "name": "stdout",
     "output_type": "stream",
     "text": [
      "True\n"
     ]
    }
   ],
   "source": [
    "lists=[25,51,67,83,12,43]\n",
    "print(any(lists))"
   ]
  },
  {
   "cell_type": "code",
   "execution_count": 16,
   "id": "02da5db5",
   "metadata": {},
   "outputs": [
    {
     "name": "stdout",
     "output_type": "stream",
     "text": [
      "25\n",
      "51\n",
      "67\n",
      "83\n",
      "43\n"
     ]
    }
   ],
   "source": [
    "def Function(x):\n",
    "    if x<18:\n",
    "        return False\n",
    "    else:\n",
    "        return True\n",
    "adults=filter(Function,lists)\n",
    "for x in adults:\n",
    "    print(x)"
   ]
  },
  {
   "cell_type": "code",
   "execution_count": 17,
   "id": "ac8a7e87",
   "metadata": {},
   "outputs": [
    {
     "name": "stdout",
     "output_type": "stream",
     "text": [
      "['a', 'e', 'i', 'o', 'u']\n"
     ]
    }
   ],
   "source": [
    "vowels='aeiou'\n",
    "print(list(vowels))"
   ]
  },
  {
   "cell_type": "code",
   "execution_count": 18,
   "id": "88ec32f2",
   "metadata": {},
   "outputs": [
    {
     "data": {
      "text/plain": [
       "[9, 12, 13]"
      ]
     },
     "execution_count": 18,
     "metadata": {},
     "output_type": "execute_result"
    }
   ],
   "source": [
    "cow_ages=[1,2,5,7,8,9,12,13]\n",
    "def cow(x):\n",
    "        if x>8:\n",
    "            return x\n",
    "list(filter(cow,cow_ages))"
   ]
  },
  {
   "cell_type": "code",
   "execution_count": 19,
   "id": "983a2194",
   "metadata": {
    "scrolled": false
   },
   "outputs": [
    {
     "data": {
      "text/plain": [
       "[None, None, None, None, None, 9, 12, 13]"
      ]
     },
     "execution_count": 19,
     "metadata": {},
     "output_type": "execute_result"
    }
   ],
   "source": [
    "list(map(cow,cow_ages))"
   ]
  },
  {
   "cell_type": "code",
   "execution_count": 20,
   "id": "db5524bb",
   "metadata": {
    "scrolled": true
   },
   "outputs": [
    {
     "data": {
      "text/plain": [
       "1"
      ]
     },
     "execution_count": 20,
     "metadata": {},
     "output_type": "execute_result"
    }
   ],
   "source": [
    "def cmp(a,b):\n",
    "        if a>b:\n",
    "            return 1\n",
    "        elif b>a:\n",
    "            return -1\n",
    "        else:\n",
    "            return 0\n",
    "cmp(25,12)"
   ]
  },
  {
   "cell_type": "code",
   "execution_count": 21,
   "id": "ef130713",
   "metadata": {},
   "outputs": [
    {
     "data": {
      "text/plain": [
       "5"
      ]
     },
     "execution_count": 21,
     "metadata": {},
     "output_type": "execute_result"
    }
   ],
   "source": [
    "melons=[8,0,0,8,5]\n",
    "len(melons)"
   ]
  },
  {
   "cell_type": "code",
   "execution_count": 22,
   "id": "27329e5f",
   "metadata": {},
   "outputs": [
    {
     "data": {
      "text/plain": [
       "8"
      ]
     },
     "execution_count": 22,
     "metadata": {},
     "output_type": "execute_result"
    }
   ],
   "source": [
    "max(melons)"
   ]
  },
  {
   "cell_type": "code",
   "execution_count": 23,
   "id": "06aea047",
   "metadata": {},
   "outputs": [
    {
     "data": {
      "text/plain": [
       "(25, 50, 75, 66, 11, 3, 34)"
      ]
     },
     "execution_count": 23,
     "metadata": {},
     "output_type": "execute_result"
    }
   ],
   "source": [
    "numbers=[25,50,75,66,11,3,34]\n",
    "tuple_numbers=tuple(numbers)\n",
    "tuple_numbers"
   ]
  },
  {
   "cell_type": "code",
   "execution_count": null,
   "id": "5b8945f2",
   "metadata": {},
   "outputs": [],
   "source": []
  }
 ],
 "metadata": {
  "kernelspec": {
   "display_name": "Python 3",
   "language": "python",
   "name": "python3"
  },
  "language_info": {
   "codemirror_mode": {
    "name": "ipython",
    "version": 3
   },
   "file_extension": ".py",
   "mimetype": "text/x-python",
   "name": "python",
   "nbconvert_exporter": "python",
   "pygments_lexer": "ipython3",
   "version": "3.8.8"
  }
 },
 "nbformat": 4,
 "nbformat_minor": 5
}
